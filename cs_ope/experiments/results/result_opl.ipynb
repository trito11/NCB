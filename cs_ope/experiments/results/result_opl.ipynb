{
 "cells": [
  {
   "cell_type": "code",
   "execution_count": 1,
   "metadata": {},
   "outputs": [],
   "source": [
    "import numpy as np\n",
    "import pandas as pd"
   ]
  },
  {
   "cell_type": "code",
   "execution_count": null,
   "metadata": {},
   "outputs": [],
   "source": [
    "data_name = 'heart_disease'\n",
    "# data_name = 'pendigits'\n",
    "#data_name = 'vehicle.scale'\n",
    "\n",
    "#true_value = np.loadtxt(fname='exp_results/true_value_%s.csv'%data_name,  dtype=\"float\", delimiter=\",\")\n",
    "# res_ipw3 = np.loadtxt(fname=r'D:\\Lab\\bandits\\cs_ope\\cs_ope\\experiments\\exp_results_095/res_opl_ipw3_%s.csv'%data_name,  dtype=\"float\", delimiter=\",\")\n",
    "# res_dm = np.loadtxt(fname=r'D:\\Lab\\bandits\\cs_ope\\cs_ope\\experiments\\exp_results_095/res_opl_dm_%s.csv'%data_name,  dtype=\"float\", delimiter=\",\")\n",
    "# res_dml2 = np.loadtxt(fname=r'D:\\Lab\\bandits\\cs_ope\\cs_ope\\experiments\\exp_results_095/res_opl_dml2_sn_%s.csv'%data_name,  dtype=\"float\", delimiter=\",\")\n",
    "neulcb = np.loadtxt(fname=r'D:\\Lab\\bandits\\cs_ope\\exp_results_0.7_1000\\true_res_NLCB_value_satimage.scale.csv',  dtype=\"float\", delimiter=\",\")"
   ]
  },
  {
   "cell_type": "code",
   "execution_count": 4,
   "metadata": {},
   "outputs": [],
   "source": [
    "res_ipw3 = res_ipw3[:2]\n",
    "res_dm = res_dm[:2]\n",
    "res_dml2 = res_dml2[:2]"
   ]
  },
  {
   "cell_type": "code",
   "execution_count": 5,
   "metadata": {},
   "outputs": [
    {
     "data": {
      "text/plain": [
       "array([0.93638557, 0.        ])"
      ]
     },
     "execution_count": 5,
     "metadata": {},
     "output_type": "execute_result"
    }
   ],
   "source": [
    "res_dml2"
   ]
  },
  {
   "cell_type": "code",
   "execution_count": 38,
   "metadata": {},
   "outputs": [],
   "source": [
    "res_ipw3 = res_ipw3[:4]\n",
    "res_dm = res_dm[:4]\n",
    "res_dml2 = res_dml2[:4]"
   ]
  },
  {
   "cell_type": "code",
   "execution_count": 37,
   "metadata": {},
   "outputs": [],
   "source": [
    "neulcb=neulcb[:8]"
   ]
  },
  {
   "cell_type": "code",
   "execution_count": 33,
   "metadata": {},
   "outputs": [
    {
     "data": {
      "text/plain": [
       "array([[0.70999998, 0.81666666, 0.64999998],\n",
       "       [0.84666669, 0.77999997, 0.68000001],\n",
       "       [0.81666666, 0.76666665, 0.70999998],\n",
       "       [0.85666668, 0.83333331, 0.81999999],\n",
       "       [0.69      , 0.67000002, 0.68000001],\n",
       "       [0.73666668, 0.76999998, 0.73666668],\n",
       "       [0.84666669, 0.88      , 0.75      ]])"
      ]
     },
     "execution_count": 33,
     "metadata": {},
     "output_type": "execute_result"
    }
   ],
   "source": [
    "neulcb"
   ]
  },
  {
   "cell_type": "code",
   "execution_count": 38,
   "metadata": {},
   "outputs": [],
   "source": [
    "\n",
    "for i in range(3):\n",
    "    # mse_dml2 = np.mean(res_dml2)\n",
    "    # mse_ipw3 = np.mean(res_ipw3)\n",
    "    # mse_dm = np.mean(res_dm)\n",
    "    neulcb_rwd = np.mean(neulcb[:,i])\n",
    "    std_neulcb = np.std(res_dml2[:,i])\n",
    "    # std_dml2 = np.std(res_dml2)\n",
    "    # std_ipw3 = np.std(res_ipw3)\n",
    "    # std_dm = np.std(res_dm)\n",
    "    \n",
    "    # print(mse_ipw3)\n",
    "    \n",
    "    if i == 0:\n",
    "        # data = np.array([[mse_dml2, std_dml2, mse_ipw3, std_ipw3, mse_dm, std_dm]])\n",
    "        data=np.array([[neulcb_rwd,std_neulcb]])\n",
    "    else:\n",
    "        data = np.append(data, np.array([[neulcb_rwd,std_neulcb]]), axis=0)"
   ]
  },
  {
   "cell_type": "code",
   "execution_count": 39,
   "metadata": {},
   "outputs": [
    {
     "name": "stdout",
     "output_type": "stream",
     "text": [
      "       0      1\n",
      "0  0.772  0.123\n",
      "1  0.791  0.121\n",
      "2  0.727  0.101\n"
     ]
    }
   ],
   "source": [
    "print(np.round(pd.DataFrame(data), 3))"
   ]
  },
  {
   "cell_type": "code",
   "execution_count": 40,
   "metadata": {},
   "outputs": [],
   "source": [
    "\n",
    "result['800']=data[0][[0,2,4]]"
   ]
  },
  {
   "cell_type": "code",
   "execution_count": 41,
   "metadata": {},
   "outputs": [
    {
     "data": {
      "text/plain": [
       "{'Dataset': ['dml2', 'ipw3', 'dm'],\n",
       " '1000': array([0.95148098, 0.37288165, 0.73949881]),\n",
       " '800': array([0.93638557, 0.70246845, 0.59827844])}"
      ]
     },
     "execution_count": 41,
     "metadata": {},
     "output_type": "execute_result"
    }
   ],
   "source": [
    "result"
   ]
  },
  {
   "cell_type": "code",
   "execution_count": 42,
   "metadata": {},
   "outputs": [
    {
     "name": "stdout",
     "output_type": "stream",
     "text": [
      "  Dataset   1000    800\n",
      "0    dml2  0.951  0.936\n",
      "1    ipw3  0.373  0.702\n",
      "2      dm  0.739  0.598\n"
     ]
    }
   ],
   "source": [
    "# print(np.round(pd.DataFrame(data), 3).to_latex())\n",
    "print(np.round(pd.DataFrame(result), 3))"
   ]
  },
  {
   "cell_type": "code",
   "execution_count": null,
   "metadata": {},
   "outputs": [
    {
     "ename": "FileNotFoundError",
     "evalue": "exp_results/true_value_heart_disease.csv not found.",
     "output_type": "error",
     "traceback": [
      "\u001b[0;31m---------------------------------------------------------------------------\u001b[0m",
      "\u001b[0;31mFileNotFoundError\u001b[0m                         Traceback (most recent call last)",
      "Cell \u001b[0;32mIn[2], line 5\u001b[0m\n\u001b[1;32m      1\u001b[0m data_name \u001b[38;5;241m=\u001b[39m \u001b[38;5;124m'\u001b[39m\u001b[38;5;124mheart_disease\u001b[39m\u001b[38;5;124m'\u001b[39m\n\u001b[1;32m      2\u001b[0m \u001b[38;5;66;03m#data_name = 'pendigits'\u001b[39;00m\n\u001b[1;32m      3\u001b[0m \u001b[38;5;66;03m#data_name = 'vehicle.scale'\u001b[39;00m\n\u001b[0;32m----> 5\u001b[0m true_value \u001b[38;5;241m=\u001b[39m np\u001b[38;5;241m.\u001b[39mloadtxt(fname\u001b[38;5;241m=\u001b[39m\u001b[38;5;124m'\u001b[39m\u001b[38;5;124mexp_results/true_value_\u001b[39m\u001b[38;5;132;01m%s\u001b[39;00m\u001b[38;5;124m.csv\u001b[39m\u001b[38;5;124m'\u001b[39m\u001b[38;5;241m%\u001b[39mdata_name,  dtype\u001b[38;5;241m=\u001b[39m\u001b[38;5;124m\"\u001b[39m\u001b[38;5;124mfloat\u001b[39m\u001b[38;5;124m\"\u001b[39m, delimiter\u001b[38;5;241m=\u001b[39m\u001b[38;5;124m\"\u001b[39m\u001b[38;5;124m,\u001b[39m\u001b[38;5;124m\"\u001b[39m)\n\u001b[1;32m      6\u001b[0m res_ipw3 \u001b[38;5;241m=\u001b[39m np\u001b[38;5;241m.\u001b[39mloadtxt(fname\u001b[38;5;241m=\u001b[39m\u001b[38;5;124m'\u001b[39m\u001b[38;5;124mexp_results/res_ipw3_\u001b[39m\u001b[38;5;132;01m%s\u001b[39;00m\u001b[38;5;124m.csv\u001b[39m\u001b[38;5;124m'\u001b[39m\u001b[38;5;241m%\u001b[39mdata_name,  dtype\u001b[38;5;241m=\u001b[39m\u001b[38;5;124m\"\u001b[39m\u001b[38;5;124mfloat\u001b[39m\u001b[38;5;124m\"\u001b[39m, delimiter\u001b[38;5;241m=\u001b[39m\u001b[38;5;124m\"\u001b[39m\u001b[38;5;124m,\u001b[39m\u001b[38;5;124m\"\u001b[39m)\n\u001b[1;32m      7\u001b[0m res_dm \u001b[38;5;241m=\u001b[39m np\u001b[38;5;241m.\u001b[39mloadtxt(fname\u001b[38;5;241m=\u001b[39m\u001b[38;5;124m'\u001b[39m\u001b[38;5;124mexp_results/res_dm_\u001b[39m\u001b[38;5;132;01m%s\u001b[39;00m\u001b[38;5;124m.csv\u001b[39m\u001b[38;5;124m'\u001b[39m\u001b[38;5;241m%\u001b[39mdata_name,  dtype\u001b[38;5;241m=\u001b[39m\u001b[38;5;124m\"\u001b[39m\u001b[38;5;124mfloat\u001b[39m\u001b[38;5;124m\"\u001b[39m, delimiter\u001b[38;5;241m=\u001b[39m\u001b[38;5;124m\"\u001b[39m\u001b[38;5;124m,\u001b[39m\u001b[38;5;124m\"\u001b[39m)\n",
      "File \u001b[0;32m~/anaconda3/envs/cs_ope/lib/python3.12/site-packages/numpy/lib/_npyio_impl.py:1397\u001b[0m, in \u001b[0;36mloadtxt\u001b[0;34m(fname, dtype, comments, delimiter, converters, skiprows, usecols, unpack, ndmin, encoding, max_rows, quotechar, like)\u001b[0m\n\u001b[1;32m   1394\u001b[0m \u001b[38;5;28;01mif\u001b[39;00m \u001b[38;5;28misinstance\u001b[39m(delimiter, \u001b[38;5;28mbytes\u001b[39m):\n\u001b[1;32m   1395\u001b[0m     delimiter \u001b[38;5;241m=\u001b[39m delimiter\u001b[38;5;241m.\u001b[39mdecode(\u001b[38;5;124m'\u001b[39m\u001b[38;5;124mlatin1\u001b[39m\u001b[38;5;124m'\u001b[39m)\n\u001b[0;32m-> 1397\u001b[0m arr \u001b[38;5;241m=\u001b[39m _read(fname, dtype\u001b[38;5;241m=\u001b[39mdtype, comment\u001b[38;5;241m=\u001b[39mcomment, delimiter\u001b[38;5;241m=\u001b[39mdelimiter,\n\u001b[1;32m   1398\u001b[0m             converters\u001b[38;5;241m=\u001b[39mconverters, skiplines\u001b[38;5;241m=\u001b[39mskiprows, usecols\u001b[38;5;241m=\u001b[39musecols,\n\u001b[1;32m   1399\u001b[0m             unpack\u001b[38;5;241m=\u001b[39munpack, ndmin\u001b[38;5;241m=\u001b[39mndmin, encoding\u001b[38;5;241m=\u001b[39mencoding,\n\u001b[1;32m   1400\u001b[0m             max_rows\u001b[38;5;241m=\u001b[39mmax_rows, quote\u001b[38;5;241m=\u001b[39mquotechar)\n\u001b[1;32m   1402\u001b[0m \u001b[38;5;28;01mreturn\u001b[39;00m arr\n",
      "File \u001b[0;32m~/anaconda3/envs/cs_ope/lib/python3.12/site-packages/numpy/lib/_npyio_impl.py:1012\u001b[0m, in \u001b[0;36m_read\u001b[0;34m(fname, delimiter, comment, quote, imaginary_unit, usecols, skiplines, max_rows, converters, ndmin, unpack, dtype, encoding)\u001b[0m\n\u001b[1;32m   1010\u001b[0m     fname \u001b[38;5;241m=\u001b[39m os\u001b[38;5;241m.\u001b[39mfspath(fname)\n\u001b[1;32m   1011\u001b[0m \u001b[38;5;28;01mif\u001b[39;00m \u001b[38;5;28misinstance\u001b[39m(fname, \u001b[38;5;28mstr\u001b[39m):\n\u001b[0;32m-> 1012\u001b[0m     fh \u001b[38;5;241m=\u001b[39m np\u001b[38;5;241m.\u001b[39mlib\u001b[38;5;241m.\u001b[39m_datasource\u001b[38;5;241m.\u001b[39mopen(fname, \u001b[38;5;124m'\u001b[39m\u001b[38;5;124mrt\u001b[39m\u001b[38;5;124m'\u001b[39m, encoding\u001b[38;5;241m=\u001b[39mencoding)\n\u001b[1;32m   1013\u001b[0m     \u001b[38;5;28;01mif\u001b[39;00m encoding \u001b[38;5;129;01mis\u001b[39;00m \u001b[38;5;28;01mNone\u001b[39;00m:\n\u001b[1;32m   1014\u001b[0m         encoding \u001b[38;5;241m=\u001b[39m \u001b[38;5;28mgetattr\u001b[39m(fh, \u001b[38;5;124m'\u001b[39m\u001b[38;5;124mencoding\u001b[39m\u001b[38;5;124m'\u001b[39m, \u001b[38;5;124m'\u001b[39m\u001b[38;5;124mlatin1\u001b[39m\u001b[38;5;124m'\u001b[39m)\n",
      "File \u001b[0;32m~/anaconda3/envs/cs_ope/lib/python3.12/site-packages/numpy/lib/_datasource.py:192\u001b[0m, in \u001b[0;36mopen\u001b[0;34m(path, mode, destpath, encoding, newline)\u001b[0m\n\u001b[1;32m    155\u001b[0m \u001b[38;5;250m\u001b[39m\u001b[38;5;124;03m\"\"\"\u001b[39;00m\n\u001b[1;32m    156\u001b[0m \u001b[38;5;124;03mOpen `path` with `mode` and return the file object.\u001b[39;00m\n\u001b[1;32m    157\u001b[0m \n\u001b[0;32m   (...)\u001b[0m\n\u001b[1;32m    188\u001b[0m \n\u001b[1;32m    189\u001b[0m \u001b[38;5;124;03m\"\"\"\u001b[39;00m\n\u001b[1;32m    191\u001b[0m ds \u001b[38;5;241m=\u001b[39m DataSource(destpath)\n\u001b[0;32m--> 192\u001b[0m \u001b[38;5;28;01mreturn\u001b[39;00m ds\u001b[38;5;241m.\u001b[39mopen(path, mode, encoding\u001b[38;5;241m=\u001b[39mencoding, newline\u001b[38;5;241m=\u001b[39mnewline)\n",
      "File \u001b[0;32m~/anaconda3/envs/cs_ope/lib/python3.12/site-packages/numpy/lib/_datasource.py:529\u001b[0m, in \u001b[0;36mDataSource.open\u001b[0;34m(self, path, mode, encoding, newline)\u001b[0m\n\u001b[1;32m    526\u001b[0m     \u001b[38;5;28;01mreturn\u001b[39;00m _file_openers[ext](found, mode\u001b[38;5;241m=\u001b[39mmode,\n\u001b[1;32m    527\u001b[0m                               encoding\u001b[38;5;241m=\u001b[39mencoding, newline\u001b[38;5;241m=\u001b[39mnewline)\n\u001b[1;32m    528\u001b[0m \u001b[38;5;28;01melse\u001b[39;00m:\n\u001b[0;32m--> 529\u001b[0m     \u001b[38;5;28;01mraise\u001b[39;00m \u001b[38;5;167;01mFileNotFoundError\u001b[39;00m(\u001b[38;5;124mf\u001b[39m\u001b[38;5;124m\"\u001b[39m\u001b[38;5;132;01m{\u001b[39;00mpath\u001b[38;5;132;01m}\u001b[39;00m\u001b[38;5;124m not found.\u001b[39m\u001b[38;5;124m\"\u001b[39m)\n",
      "\u001b[0;31mFileNotFoundError\u001b[0m: exp_results/true_value_heart_disease.csv not found."
     ]
    }
   ],
   "source": [
    "data_name = 'heart_disease'\n",
    "N=300\n",
    "ratio=0.7\n",
    "true_value = np.loadtxt(fname='exp_results_{ratio}_{N}/true_value_%s.csv'%data_name,  dtype=\"float\", delimiter=\",\")\n",
    "res_ipw3 = np.loadtxt(fname='exp_results_{ratio}_{N}/res_ipw3_%s.csv'%data_name,  dtype=\"float\", delimiter=\",\")\n",
    "res_dm = np.loadtxt(fname='exp_results_{ratio}_{N}/res_dm_%s.csv'%data_name,  dtype=\"float\", delimiter=\",\")\n",
    "res_dml1 = np.loadtxt(fname='exp_results_{ratio}_{N}/res_dml1_%s.csv'%data_name,  dtype=\"float\", delimiter=\",\")\n",
    "res_dml2 = np.loadtxt(fname='exp_results_{ratio}_{N}/res_dml2_%s.csv'%data_name,  dtype=\"float\", delimiter=\",\")\n",
    "res_dml1_sn = np.loadtxt(fname='exp_results_{ratio}_{N}/res_dml1_sn_%s.csv'%data_name,  dtype=\"float\", delimiter=\",\")\n",
    "res_dml2_sn = np.loadtxt(fname='exp_results_{ratio}_{N}/res_dml2_sn_%s.csv'%data_name,  dtype=\"float\", delimiter=\",\")"
   ]
  },
  {
   "cell_type": "code",
   "execution_count": 258,
   "metadata": {},
   "outputs": [],
   "source": [
    "for i in range(3):\n",
    "    mse_dml1 = np.sqrt(np.mean((res_dml1[:,i] - true_value)**2))\n",
    "    mse_dml2 = np.sqrt(np.mean((res_dml2[:,i] - true_value)**2))\n",
    "    mse_dml1_sn = np.sqrt(np.mean((res_dml1_sn[:,i] - true_value)**2))\n",
    "    mse_dml2_sn = np.sqrt(np.mean((res_dml2_sn[:,i] - true_value)**2))\n",
    "    mse_ipw3 = np.sqrt(np.mean((res_ipw3[:,i] - true_value)**2))\n",
    "    mse_dm = np.sqrt(np.mean((res_dm[:,i] - true_value)**2))\n",
    "    \n",
    "    if i == 0:\n",
    "        data = np.array([[mse_dml1, mse_dml2, mse_dml1_sn, mse_dml2_sn, mse_ipw3, mse_dm]])\n",
    "    else:\n",
    "        data = np.append(data, np.array([[mse_dml1, mse_dml2, mse_dml1_sn, mse_dml2_sn, mse_ipw3, mse_dm]]), axis=0)"
   ]
  },
  {
   "cell_type": "code",
   "execution_count": 259,
   "metadata": {},
   "outputs": [
    {
     "name": "stdout",
     "output_type": "stream",
     "text": [
      "\\begin{tabular}{lrrrrrr}\n",
      "\\toprule\n",
      "{} &      0 &      1 &      2 &      3 &       4 &      5 \\\\\n",
      "\\midrule\n",
      "0 &  0.305 &  0.305 &  0.405 &  0.406 &   4.560 &  0.202 \\\\\n",
      "1 &  0.272 &  0.257 &  0.421 &  0.416 &  20.251 &  0.369 \\\\\n",
      "2 &  0.335 &  0.381 &  0.579 &  0.589 &  10.267 &  0.582 \\\\\n",
      "\\bottomrule\n",
      "\\end{tabular}\n",
      "\n"
     ]
    }
   ],
   "source": [
    "print(np.round(pd.DataFrame(data), 3).to_latex())"
   ]
  },
  {
   "cell_type": "code",
   "execution_count": 25,
   "metadata": {},
   "outputs": [
    {
     "data": {
      "text/plain": [
       "array([[0.34615803, 0.35732443, 0.38830912],\n",
       "       [0.29549086, 0.289192  , 0.1905642 ],\n",
       "       [0.3305948 , 0.35494564, 0.16973971],\n",
       "       [0.28548532, 0.33828547, 0.31193576],\n",
       "       [0.36382171, 0.35632439, 0.2676066 ],\n",
       "       [0.26758493, 0.3176647 , 0.26969643],\n",
       "       [0.30860962, 0.32912474, 0.31141428],\n",
       "       [0.23763304, 0.2707934 , 0.25009973],\n",
       "       [0.27609476, 0.3978576 , 0.        ],\n",
       "       [0.        , 0.        , 0.        ]])"
      ]
     },
     "execution_count": 25,
     "metadata": {},
     "output_type": "execute_result"
    }
   ],
   "source": [
    "res_ipw3"
   ]
  },
  {
   "cell_type": "code",
   "execution_count": 170,
   "metadata": {},
   "outputs": [
    {
     "data": {
      "text/plain": [
       "False"
      ]
     },
     "execution_count": 170,
     "metadata": {},
     "output_type": "execute_result"
    }
   ],
   "source": [
    "2350000000 < 1490000000"
   ]
  },
  {
   "cell_type": "code",
   "execution_count": null,
   "metadata": {},
   "outputs": [],
   "source": []
  }
 ],
 "metadata": {
  "kernelspec": {
   "display_name": "cs_ope",
   "language": "python",
   "name": "python3"
  },
  "language_info": {
   "codemirror_mode": {
    "name": "ipython",
    "version": 3
   },
   "file_extension": ".py",
   "mimetype": "text/x-python",
   "name": "python",
   "nbconvert_exporter": "python",
   "pygments_lexer": "ipython3",
   "version": "3.12.8"
  }
 },
 "nbformat": 4,
 "nbformat_minor": 2
}
