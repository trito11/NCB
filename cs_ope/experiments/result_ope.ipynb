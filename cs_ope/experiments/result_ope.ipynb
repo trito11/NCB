{
 "cells": [
  {
   "cell_type": "code",
   "execution_count": 2,
   "metadata": {},
   "outputs": [],
   "source": [
    "import numpy as np\n",
    "import pandas as pd\n",
    "import matplotlib.pyplot as plt\n"
   ]
  },
  {
   "cell_type": "code",
   "execution_count": 10,
   "metadata": {},
   "outputs": [],
   "source": [
    "data_name = 'satimage.scale_800'\n",
    "#data_name = 'pendigits'\n",
    "#data_name = 'vehicle.scale'\n",
    "\n",
    "true_value = np.loadtxt(fname=r'D:\\Lab\\bandits\\cs_ope\\cs_ope\\experiments\\results_ope_095/true_value_%s.csv'%data_name,  dtype=\"float\", delimiter=\",\")\n",
    "res_ipw3 = np.loadtxt(fname=r'D:\\Lab\\bandits\\cs_ope\\cs_ope\\experiments\\results_ope_095/res_ipw3_%s.csv'%data_name,  dtype=\"float\", delimiter=\",\")\n",
    "res_ipw3_lasso = np.loadtxt(fname=r'D:\\Lab\\bandits\\cs_ope\\cs_ope\\experiments\\results_ope_095/res_ipw3_ML_%s.csv'%data_name,  dtype=\"float\", delimiter=\",\")\n",
    "res_dm = np.loadtxt(fname=r'D:\\Lab\\bandits\\cs_ope\\cs_ope\\experiments\\results_ope_095/res_dm_%s.csv'%data_name,  dtype=\"float\", delimiter=\",\")\n",
    "res_dm_lasso = np.loadtxt(fname=r'D:\\Lab\\bandits\\cs_ope\\cs_ope\\experiments\\results_ope_095/res_dm_ML_%s.csv'%data_name,  dtype=\"float\", delimiter=\",\")\n",
    "res_dml1 = np.loadtxt(fname=r'D:\\Lab\\bandits\\cs_ope\\cs_ope\\experiments\\results_ope_095/res_dml1_%s.csv'%data_name,  dtype=\"float\", delimiter=\",\")\n",
    "res_dml2 = np.loadtxt(fname=r'D:\\Lab\\bandits\\cs_ope\\cs_ope\\experiments\\results_ope_095/res_dml2_%s.csv'%data_name,  dtype=\"float\", delimiter=\",\")"
   ]
  },
  {
   "cell_type": "code",
   "execution_count": 55,
   "metadata": {},
   "outputs": [],
   "source": [
    "true_value1 = np.loadtxt(fname=r'D:\\Lab\\bandits\\cs_ope\\cs_ope\\experiments\\results_ope_095/true_value_%s.csv'%data_name,  dtype=\"float\", delimiter=\",\")\n",
    "res_ipw31 = np.loadtxt(fname=r'D:\\Lab\\bandits\\cs_ope\\cs_ope\\experiments\\results_ope_095/res_ipw3_%s.csv'%data_name,  dtype=\"float\", delimiter=\",\")\n",
    "res_ipw3_lasso1 = np.loadtxt(fname=r'D:\\Lab\\bandits\\cs_ope\\cs_ope\\experiments\\results_ope_095/res_ipw3_ML_%s.csv'%data_name,  dtype=\"float\", delimiter=\",\")\n",
    "res_dm1 = np.loadtxt(fname=r'D:\\Lab\\bandits\\cs_ope\\cs_ope\\experiments\\results_ope_095/res_dm_%s.csv'%data_name,  dtype=\"float\", delimiter=\",\")\n",
    "res_dm_lasso1 = np.loadtxt(fname=r'D:\\Lab\\bandits\\cs_ope\\cs_ope\\experiments\\results_ope_095/res_dm_ML_%s.csv'%data_name,  dtype=\"float\", delimiter=\",\")\n",
    "res_dml11 = np.loadtxt(fname=r'D:\\Lab\\bandits\\cs_ope\\cs_ope\\experiments\\results_ope_095/res_dml1_%s.csv'%data_name,  dtype=\"float\", delimiter=\",\")\n",
    "res_dml21 = np.loadtxt(fname=r'D:\\Lab\\bandits\\cs_ope\\cs_ope\\experiments\\results_ope_095/res_dml2_%s.csv'%data_name,  dtype=\"float\", delimiter=\",\")"
   ]
  },
  {
   "cell_type": "code",
   "execution_count": 11,
   "metadata": {},
   "outputs": [
    {
     "data": {
      "text/plain": [
       "array([0.66779167, 0.85214902, 0.66856467, 0.75958888, 0.6243303 ,\n",
       "       0.64703558, 0.66706032, 0.69313434, 0.64574568, 0.6928822 ,\n",
       "       0.51113379, 0.6705165 , 0.67024929, 0.60198717, 0.71258695,\n",
       "       0.73654979, 0.66822705, 0.82701482, 0.60236   , 0.71390352])"
      ]
     },
     "execution_count": 11,
     "metadata": {},
     "output_type": "execute_result"
    }
   ],
   "source": [
    "true_value"
   ]
  },
  {
   "cell_type": "code",
   "execution_count": 72,
   "metadata": {},
   "outputs": [
    {
     "data": {
      "text/plain": [
       "array([0.26376778, 0.41861514, 0.25375028, 0.29220209, 0.3365578 ,\n",
       "       0.34939141, 0.37500356, 0.50445364, 0.53086564, 0.43891244,\n",
       "       0.35699047, 0.40423846, 0.34156202, 0.51980864, 0.34027534,\n",
       "       0.35735367, 0.18748191, 0.36071508, 0.35191438, 0.34892017,\n",
       "       0.2945265 , 0.31992499, 0.32498871, 0.49812293, 0.2331684 ,\n",
       "       0.48536165, 0.34130463, 0.43157731, 0.39798444, 0.34433001,\n",
       "       0.1990976 , 0.3846908 , 0.52019944, 0.41827531, 0.2350932 ,\n",
       "       0.50998457, 0.33523074, 0.35210002, 0.37602516, 0.25162165,\n",
       "       0.45274332])"
      ]
     },
     "execution_count": 72,
     "metadata": {},
     "output_type": "execute_result"
    }
   ],
   "source": [
    "res_dm"
   ]
  },
  {
   "cell_type": "code",
   "execution_count": 12,
   "metadata": {},
   "outputs": [],
   "source": [
    "trial = 20\n",
    "\n",
    "true_value = true_value[:trial]\n",
    "res_ipw3 = res_ipw3[:trial]\n",
    "res_dm = res_dm[:trial]\n",
    "res_dml1 = res_dml1[:trial]\n",
    "res_dml2 = res_dml2[:trial]\n",
    "res_ipw3_lasso = res_ipw3_lasso[:trial]\n",
    "res_dm_lasso = res_dm_lasso[:trial]"
   ]
  },
  {
   "cell_type": "code",
   "execution_count": 59,
   "metadata": {},
   "outputs": [],
   "source": [
    "trial = 20\n",
    "\n",
    "true_value1 = true_value1[:trial]\n",
    "res_ipw31 = res_ipw31[:trial]\n",
    "res_dm1 = res_dm1[:trial]\n",
    "res_dml11 = res_dml11[:trial]\n",
    "res_dml21 = res_dml21[:trial]\n",
    "res_ipw3_lasso1 = res_ipw3_lasso1[:trial]\n",
    "res_dm_lasso1 = res_dm_lasso1[:trial]"
   ]
  },
  {
   "cell_type": "code",
   "execution_count": 63,
   "metadata": {},
   "outputs": [],
   "source": [
    "true_value = np.concatenate((true_value,true_value1))\n",
    "res_ipw3 = np.concatenate((res_ipw3[:,1],res_ipw31))\n",
    "res_dm = np.concatenate((res_dm[:,1],res_dm1))\n",
    "res_dml1 = np.concatenate((res_dml1[:,1],res_dml11))\n",
    "res_dml2 = np.concatenate((res_dml2[:,1],res_dml21))\n",
    "res_ipw3_lasso = np.concatenate((res_ipw3_lasso[:,1],res_ipw3_lasso1))\n",
    "res_dm_lasso = np.concatenate((res_dm_lasso[:,1],res_dm_lasso1))\n"
   ]
  },
  {
   "cell_type": "code",
   "execution_count": 13,
   "metadata": {},
   "outputs": [],
   "source": [
    "for i in range(1):\n",
    "    mse_dml1 = (np.mean((res_dml1 - true_value)**2))\n",
    "    mse_dml2 = (np.mean((res_dml2 - true_value)**2))\n",
    "    mse_ipw3 = (np.mean((res_ipw3 - true_value)**2))\n",
    "    mse_dm = (np.mean((res_dm - true_value)**2))\n",
    "    mse_ipw3_lasso = (np.mean((res_ipw3_lasso - true_value)**2))\n",
    "    mse_dm_lasso = (np.mean((res_dm_lasso - true_value)**2))\n",
    "    \n",
    "    std_dml1 = (np.std((res_dml1 - true_value)**2))\n",
    "    std_dml2 = (np.std((res_dml2 - true_value)**2))\n",
    "    std_ipw3 = (np.std((res_ipw3 - true_value)**2))\n",
    "    std_dm = (np.std((res_dm - true_value)**2))\n",
    "    std_ipw3_lasso = (np.std((res_ipw3_lasso - true_value)**2))\n",
    "    std_dm_lasso = (np.std((res_dm_lasso - true_value)**2))\n",
    "    \n",
    "    if i == 0:\n",
    "        data = np.array([[mse_dml1, std_dml1, mse_dml2, std_dml2, mse_ipw3, std_ipw3, mse_dm, std_dm, mse_ipw3_lasso, std_ipw3_lasso, mse_dm_lasso, std_dm_lasso]])\n",
    "    else:\n",
    "        data = np.append(data, np.array([[mse_dml1, std_dml1, mse_dml2, std_dml2, mse_ipw3, std_ipw3, mse_dm, std_dm, mse_ipw3_lasso, std_ipw3_lasso, mse_dm_lasso, std_dm_lasso]]), axis=0)"
   ]
  },
  {
   "cell_type": "code",
   "execution_count": 6,
   "metadata": {},
   "outputs": [],
   "source": [
    "for i in range(3):\n",
    "    mse_dml1 = (np.mean((res_dml1[:,i] - true_value)**2))\n",
    "    mse_dml2 = (np.mean((res_dml2[:,i] - true_value)**2))\n",
    "    mse_ipw3 = (np.mean((res_ipw3[:,i] - true_value)**2))\n",
    "    mse_dm = (np.mean((res_dm[:,i] - true_value)**2))\n",
    "    mse_ipw3_lasso = (np.mean((res_ipw3_lasso[:,i] - true_value)**2))\n",
    "    mse_dm_lasso = (np.mean((res_dm_lasso[:,i] - true_value)**2))\n",
    "    \n",
    "    std_dml1 = (np.std((res_dml1[:,i] - true_value)**2))\n",
    "    std_dml2 = (np.std((res_dml2[:,i] - true_value)**2))\n",
    "    std_ipw3 = (np.std((res_ipw3[:,i] - true_value)**2))\n",
    "    std_dm = (np.std((res_dm[:,i] - true_value)**2))\n",
    "    std_ipw3_lasso = (np.std((res_ipw3_lasso[:,i] - true_value)**2))\n",
    "    std_dm_lasso = (np.std((res_dm_lasso[:,i] - true_value)**2))\n",
    "    \n",
    "    if i == 0:\n",
    "        data = np.array([[mse_dml1, std_dml1, mse_dml2, std_dml2, mse_ipw3, std_ipw3, mse_dm, std_dm, mse_ipw3_lasso, std_ipw3_lasso, mse_dm_lasso, std_dm_lasso]])\n",
    "    else:\n",
    "        data = np.append(data, np.array([[mse_dml1, std_dml1, mse_dml2, std_dml2, mse_ipw3, std_ipw3, mse_dm, std_dm, mse_ipw3_lasso, std_ipw3_lasso, mse_dm_lasso, std_dm_lasso]]), axis=0)"
   ]
  },
  {
   "cell_type": "code",
   "execution_count": 43,
   "metadata": {},
   "outputs": [
    {
     "data": {
      "text/plain": [
       "array([[9.92371871e-02, 2.39124762e-02, 2.29913105e-01, 4.54367696e-02,\n",
       "        8.03171669e+02, 3.48737608e+03, 1.28640622e-01, 6.91249140e-02,\n",
       "        9.45908630e-02, 1.07226144e-01, 1.45990186e-01, 3.41164106e-02]])"
      ]
     },
     "execution_count": 43,
     "metadata": {},
     "output_type": "execute_result"
    }
   ],
   "source": [
    "data"
   ]
  },
  {
   "cell_type": "code",
   "execution_count": 8,
   "metadata": {},
   "outputs": [],
   "source": [
    "data_list=dict()\n"
   ]
  },
  {
   "cell_type": "code",
   "execution_count": 14,
   "metadata": {},
   "outputs": [],
   "source": [
    "data_list['800']=data"
   ]
  },
  {
   "cell_type": "code",
   "execution_count": 67,
   "metadata": {},
   "outputs": [
    {
     "data": {
      "text/plain": [
       "array([[9.14373961e-02, 4.99725353e-02, 1.96341475e-01, 5.95787788e-02,\n",
       "        1.04255746e+03, 3.69514604e+03, 1.00821957e-01, 5.75148892e-02,\n",
       "        4.32763872e-01, 1.05869997e+00, 1.28301181e-01, 6.12086105e-02]])"
      ]
     },
     "execution_count": 67,
     "metadata": {},
     "output_type": "execute_result"
    }
   ],
   "source": [
    "data_list['300']"
   ]
  },
  {
   "cell_type": "code",
   "execution_count": 55,
   "metadata": {},
   "outputs": [
    {
     "data": {
      "text/plain": [
       "<Figure size 1200x600 with 0 Axes>"
      ]
     },
     "metadata": {},
     "output_type": "display_data"
    },
    {
     "data": {
      "image/png": "[encoded data removed]",
      "text/plain": [
       "<Figure size 640x480 with 1 Axes>"
      ]
     },
     "metadata": {},
     "output_type": "display_data"
    }
   ],
   "source": [
    "import matplotlib.pyplot as plt\n",
    "import numpy as np\n",
    "\n",
    "# Sample data\n",
    "categories = ['mse_dml1', 'mse_dml2', 'mse_ipw3']\n",
    "subcategories = ['300', '500', '800','1000']\n",
    "values = [\n",
    "    [5, 7, 3, 6],  # Values for Category 1\n",
    "    [data_list['300'][2], 4, 2, 5],  # Values for Category 2\n",
    "    [4, 5, 6, 7]   # Values for Category 3\n",
    "]\n",
    "\n",
    "x = np.arange(len(categories))  # the label locations\n",
    "width = 0.2  # the width of the bars\n",
    "plt.figure(figsize=(12, 6))\n",
    "fig, ax = plt.subplots()\n",
    "bars1 = ax.bar(x - 1.5*width, [val[0] for val in values], width, label=subcategories[0])\n",
    "bars2 = ax.bar(x - 0.5*width, [val[1] for val in values], width, label=subcategories[1])\n",
    "bars3 = ax.bar(x + 0.5*width, [val[2] for val in values], width, label=subcategories[2])\n",
    "bars4 = ax.bar(x + 1.5*width, [val[3] for val in values], width, label=subcategories[3])\n",
    "\n",
    "# Add some text for labels, title and custom x-axis tick labels, etc.\n",
    "ax.set_xlabel('Categories')\n",
    "ax.set_ylabel('Values')\n",
    "ax.set_title('Grouped Bar Chart with 4 Variables')\n",
    "ax.set_xticks(x)\n",
    "ax.set_xticklabels(categories)\n",
    "ax.legend()\n",
    "\n",
    "fig.tight_layout()\n",
    "plt.show()"
   ]
  },
  {
   "cell_type": "code",
   "execution_count": 22,
   "metadata": {},
   "outputs": [
    {
     "data": {
      "text/plain": [
       "<Figure size 4000x1000 with 0 Axes>"
      ]
     },
     "metadata": {},
     "output_type": "display_data"
    },
    {
     "data": {
      "image/png": "[encoded data removed]",
      "text/plain": [
       "<Figure size 640x480 with 1 Axes>"
      ]
     },
     "metadata": {},
     "output_type": "display_data"
    }
   ],
   "source": [
    "\n",
    "\n",
    "# Sample data\n",
    "categories = ['mse_dml1', 'mse_dml2','mse_dm','mse_dm_lasso']\n",
    "subcategories = ['800','1000']\n",
    "values = [\n",
    "    [data_list['800'][0][0],data_list['1000'][0][0]], \n",
    "    [ data_list['800'][0][2],data_list['1000'][0][2]],\n",
    "    [ data_list['800'][0][6],data_list['1000'][0][6]],\n",
    "    # [ data_list['800'][0][8],data_list['1000'][0][8]],\n",
    "    [ data_list['800'][0][10],data_list['1000'][0][10]]\n",
    "    \n",
    "    \n",
    "]\n",
    "\n",
    "x = np.arange(len(categories))  # the label locations\n",
    "width = 0.15  # the width of the bars\n",
    "plt.figure(figsize=(40, 10))\n",
    "fig, ax = plt.subplots()\n",
    "bars1 = ax.bar(x - 1.5*width, [val[0] for val in values], width, label=subcategories[0])\n",
    "bars2 = ax.bar(x - 0.5*width, [val[1] for val in values], width, label=subcategories[1])\n",
    "# bars3 = ax.bar(x + 0.5*width, [val[2] for val in values], width, label=subcategories[2])\n",
    "# bars4 = ax.bar(x + 1.5*width, [val[3] for val in values], width, label=subcategories[3])\n",
    "\n",
    "# Add some text for labels, title and custom x-axis tick labels, etc.\n",
    "ax.set_xlabel('Algorithms')\n",
    "ax.set_ylabel('MSE_Values')\n",
    "# ax.set_title('Grouped Bar Chart')\n",
    "ax.set_xticks(x)\n",
    "ax.set_xticklabels(categories)\n",
    "ax.legend()\n",
    "\n",
    "fig.tight_layout()\n",
    "plt.show()"
   ]
  },
  {
   "cell_type": "code",
   "execution_count": 21,
   "metadata": {},
   "outputs": [
    {
     "data": {
      "text/plain": [
       "<Figure size 4000x1000 with 0 Axes>"
      ]
     },
     "metadata": {},
     "output_type": "display_data"
    },
    {
     "data": {
      "image/png": "[encoded data removed]",
      "text/plain": [
       "<Figure size 640x480 with 1 Axes>"
      ]
     },
     "metadata": {},
     "output_type": "display_data"
    }
   ],
   "source": [
    "# Sample data\n",
    "categories = ['std_dml1', 'std_dml2','std_dm','std_ipw3_lasso','std_dm_lasso']\n",
    "subcategories = [ '800','1000']\n",
    "values = [\n",
    "    [ data_list['800'][0][1],data_list['1000'][0][1]], \n",
    "    [ data_list['800'][0][3],data_list['1000'][0][3]],\n",
    "    [data_list['800'][0][7],data_list['1000'][0][7]],\n",
    "    [ data_list['800'][0][9],data_list['1000'][0][9]],\n",
    "    [ data_list['800'][0][11],data_list['1000'][0][11]]\n",
    "    \n",
    "    \n",
    "]\n",
    "\n",
    "x = np.arange(len(categories))  # the label locations\n",
    "width = 0.15  # the width of the bars\n",
    "plt.figure(figsize=(40, 10))\n",
    "fig, ax = plt.subplots()\n",
    "bars1 = ax.bar(x - 1.5*width, [val[0] for val in values], width, label=subcategories[0])\n",
    "bars2 = ax.bar(x - 0.5*width, [val[1] for val in values], width, label=subcategories[1])\n",
    "# bars3 = ax.bar(x + 0.5*width, [val[2] for val in values], width, label=subcategories[2])\n",
    "# bars4 = ax.bar(x + 1.5*width, [val[3] for val in values], width, label=subcategories[3])\n",
    "\n",
    "# Add some text for labels, title and custom x-axis tick labels, etc.\n",
    "ax.set_xlabel('Algorithms')\n",
    "ax.set_ylabel('STD_Values')\n",
    "# ax.set_title('Grouped Bar Chart')\n",
    "ax.set_xticks(x)\n",
    "ax.set_xticklabels(categories)\n",
    "ax.legend()\n",
    "\n",
    "fig.tight_layout()\n",
    "plt.show()"
   ]
  },
  {
   "cell_type": "code",
   "execution_count": 8,
   "metadata": {},
   "outputs": [
    {
     "name": "stdout",
     "output_type": "stream",
     "text": [
      "      0      1      2      3        4         5      6      7      8      9   \\\n",
      "0  0.128  0.067  0.169  0.053   16.809    68.863  0.027  0.029  0.389  0.819   \n",
      "1  0.092  0.054  0.183  0.068  483.250  1800.281  0.098  0.060  0.759  1.437   \n",
      "2  0.208  0.073  0.333  0.094   67.723   175.209  0.282  0.100  0.063  0.062   \n",
      "\n",
      "      10     11  \n",
      "0  0.047  0.041  \n",
      "1  0.122  0.068  \n",
      "2  0.348  0.066  \n"
     ]
    }
   ],
   "source": [
    "print(np.round(pd.DataFrame(data), 3))"
   ]
  },
  {
   "cell_type": "code",
   "execution_count": 341,
   "metadata": {},
   "outputs": [],
   "source": [
    "data_name = 'satimage.scale'\n",
    "data_name = 'pendigits'\n",
    "data_name = 'vehicle.scale'\n",
    "\n",
    "true_value = np.loadtxt(fname='exp_results/true_value_%s.csv'%data_name,  dtype=\"float\", delimiter=\",\")\n",
    "res_ipw3 = np.loadtxt(fname='exp_results/res_ipw3_%s.csv'%data_name,  dtype=\"float\", delimiter=\",\")\n",
    "res_dm = np.loadtxt(fname='exp_results/res_dm_%s.csv'%data_name,  dtype=\"float\", delimiter=\",\")\n",
    "res_dml1 = np.loadtxt(fname='exp_results/res_dml1_%s.csv'%data_name,  dtype=\"float\", delimiter=\",\")\n",
    "res_dml2 = np.loadtxt(fname='exp_results/res_dml2_%s.csv'%data_name,  dtype=\"float\", delimiter=\",\")\n",
    "res_dml1_sn = np.loadtxt(fname='exp_results/res_dml1_sn_%s.csv'%data_name,  dtype=\"float\", delimiter=\",\")\n",
    "res_dml2_sn = np.loadtxt(fname='exp_results/res_dml2_sn_%s.csv'%data_name,  dtype=\"float\", delimiter=\",\")\n",
    "res_ipw3_sn = np.loadtxt(fname='exp_results/res_ipw3_sn_%s.csv'%data_name,  dtype=\"float\", delimiter=\",\")\n",
    "res_ipw3_lasso = np.loadtxt(fname='exp_results/res_ipw3_ML_%s.csv'%data_name,  dtype=\"float\", delimiter=\",\")\n",
    "res_dm_lasso = np.loadtxt(fname='exp_results/res_dm_ML_%s.csv'%data_name,  dtype=\"float\", delimiter=\",\")"
   ]
  },
  {
   "cell_type": "code",
   "execution_count": 342,
   "metadata": {},
   "outputs": [],
   "source": [
    "trial = 20\n",
    "\n",
    "true_value = true_value[:trial]\n",
    "res_ipw3 = res_ipw3[:trial]\n",
    "res_dm = res_dm[:trial]\n",
    "res_dml1 = res_dml1[:trial]\n",
    "res_dml2 = res_dml2[:trial]\n",
    "res_ipw3_lasso = res_ipw3_lasso[:trial]\n",
    "res_dm_lasso = res_dm_lasso[:trial]\n",
    "res_dml1_sn = res_dml1_sn[:trial]\n",
    "res_dml2_sn = res_dml2_sn[:trial]\n",
    "res_ipw3_sn = res_ipw3_sn[:trial]"
   ]
  },
  {
   "cell_type": "code",
   "execution_count": 343,
   "metadata": {},
   "outputs": [],
   "source": [
    "for i in range(3):\n",
    "    mse_dml1 = (np.mean((res_dml1[:,i] - true_value)**2))\n",
    "    mse_dml2 = (np.mean((res_dml2[:,i] - true_value)**2))\n",
    "    mse_ipw3 = (np.mean((res_ipw3[:,i] - true_value)**2))\n",
    "    mse_dm = (np.mean((res_dm[:,i] - true_value)**2))\n",
    "    mse_ipw3_lasso = (np.mean((res_ipw3_lasso[:,i] - true_value)**2))\n",
    "    mse_dm_lasso = (np.mean((res_dm_lasso[:,i] - true_value)**2))\n",
    "    mse_dml1_sn = (np.mean((res_dml1_sn[:,i] - true_value)**2))\n",
    "    mse_dml2_sn = (np.mean((res_dml2_sn[:,i] - true_value)**2))\n",
    "    mse_ipw3_sn = (np.mean((res_ipw3_sn[:,i] - true_value)**2))\n",
    "    \n",
    "    std_dml1 = (np.std((res_dml1[:,i] - true_value)**2))\n",
    "    std_dml2 = (np.std((res_dml2[:,i] - true_value)**2))\n",
    "    std_ipw3 = (np.std((res_ipw3[:,i] - true_value)**2))\n",
    "    std_dm = (np.std((res_dm[:,i] - true_value)**2))\n",
    "    std_ipw3_lasso = (np.std((res_ipw3_lasso[:,i] - true_value)**2))\n",
    "    std_dm_lasso = (np.std((res_dm_lasso[:,i] - true_value)**2))\n",
    "    std_dml1_sn = (np.std((res_dml1_sn[:,i] - true_value)**2))\n",
    "    std_dml2_sn = (np.std((res_dml2_sn[:,i] - true_value)**2))\n",
    "    std_ipw3_sn = (np.std((res_ipw3_sn[:,i] - true_value)**2))\n",
    "    \n",
    "    if i == 0:\n",
    "        data = np.array([[mse_dml1, std_dml1, mse_dml2, std_dml2, mse_ipw3, std_ipw3, mse_dm, std_dm, mse_ipw3_lasso, std_ipw3_lasso, mse_dm_lasso, std_dm_lasso, mse_dml1_sn, std_dml1_sn, mse_dml2_sn, std_dml1_sn, mse_ipw3_sn, std_ipw3_sn]])\n",
    "    else:\n",
    "        data = np.append(data, np.array([[mse_dml1, std_dml1, mse_dml2, std_dml2, mse_ipw3, std_ipw3, mse_dm, std_dm, mse_ipw3_lasso, std_ipw3_lasso, mse_dm_lasso, std_dm_lasso, mse_dml1_sn, std_dml1_sn, mse_dml2_sn, std_dml1_sn, mse_ipw3_sn, std_ipw3_sn]]), axis=0)"
   ]
  },
  {
   "cell_type": "code",
   "execution_count": 344,
   "metadata": {},
   "outputs": [
    {
     "name": "stdout",
     "output_type": "stream",
     "text": [
      "\\begin{tabular}{lrrrrrrrrrrrrrrrrrr}\n",
      "\\toprule\n",
      "{} &      0 &      1 &      2 &      3 &           4 &           5 &      6 &      7 &      8 &      9 &     10 &     11 &     12 &     13 &     14 &     15 &     16 &     17 \\\\\n",
      "\\midrule\n",
      "0 &  0.031 &  0.022 &  0.029 &  0.019 &  218390.000 &  285382.247 &  0.038 &  0.035 &  0.568 &  0.319 &  0.040 &  0.014 &  0.093 &  0.019 &  0.086 &  0.019 &  0.099 &  0.044 \\\\\n",
      "1 &  0.022 &  0.021 &  0.019 &  0.024 &  329825.704 &  454301.175 &  0.095 &  0.062 &  0.576 &  0.357 &  0.089 &  0.019 &  0.085 &  0.015 &  0.086 &  0.015 &  0.125 &  0.063 \\\\\n",
      "2 &  0.028 &  0.029 &  0.037 &  0.030 &  173603.802 &  141163.618 &  0.213 &  0.049 &  0.233 &  0.193 &  0.210 &  0.031 &  0.157 &  0.026 &  0.174 &  0.026 &  0.193 &  0.040 \\\\\n",
      "\\bottomrule\n",
      "\\end{tabular}\n",
      "\n"
     ]
    }
   ],
   "source": [
    "print(np.round(pd.DataFrame(data), 3).to_latex())"
   ]
  },
  {
   "cell_type": "code",
   "execution_count": null,
   "metadata": {},
   "outputs": [],
   "source": []
  },
  {
   "cell_type": "code",
   "execution_count": null,
   "metadata": {},
   "outputs": [],
   "source": []
  }
 ],
 "metadata": {
  "kernelspec": {
   "display_name": "Python 3",
   "language": "python",
   "name": "python3"
  },
  "language_info": {
   "codemirror_mode": {
    "name": "ipython",
    "version": 3
   },
   "file_extension": ".py",
   "mimetype": "text/x-python",
   "name": "python",
   "nbconvert_exporter": "python",
   "pygments_lexer": "ipython3",
   "version": "3.12.1"
  }
 },
 "nbformat": 4,
 "nbformat_minor": 2
}
